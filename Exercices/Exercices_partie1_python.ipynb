{
 "cells": [
  {
   "cell_type": "code",
   "execution_count": 36,
   "metadata": {},
   "outputs": [
    {
     "name": "stdout",
     "output_type": "stream",
     "text": [
      "Le solde du compte bancaire de Maxence est de : 300 euros\n",
      "Le solde du compte bancaire de Maxence est de : 1888 euros\n",
      "Le solde du compte bancaire de Maxence est de : 1500 euros\n"
     ]
    }
   ],
   "source": [
    "class CompteBancaire:\n",
    "    \n",
    "    def __init__(self,nom,argent):\n",
    "        self.nom = nom\n",
    "        self.solde = argent\n",
    "\n",
    "    def affiche(self): \n",
    "        print('Le solde du compte bancaire de '+self.nom + ' est de : ' + str(self.solde)+' euros')\n",
    "\n",
    "    def depot(self,depot):\n",
    "        self.solde = self.solde + depot\n",
    "\n",
    "    def retrait(self,montant):\n",
    "        self.solde = self.solde - montant\n",
    "\n",
    "maxence = CompteBancaire('Maxence', 300)\n",
    "maxence.affiche()\n",
    "maxence.depot(1588)\n",
    "maxence.affiche()\n",
    "maxence.retrait(388)\n",
    "maxence.affiche()"
   ]
  },
  {
   "cell_type": "code",
   "execution_count": 49,
   "metadata": {},
   "outputs": [
    {
     "name": "stdout",
     "output_type": "stream",
     "text": [
      "p(2, 3)\n",
      "p(1, -5, 6)\n"
     ]
    }
   ],
   "source": [
    "class Point:\n",
    "    x = \"\"\n",
    "    y = \"\"\n",
    "    z = \"\"\n",
    "\n",
    "    def __init__(self,x=\"\",y=\"\"):\n",
    "        self.x = x\n",
    "        self.y = y\n",
    "\n",
    "    def __init__(self,x= \"\",y= \"\",z = \"\"):\n",
    "        self.x = x\n",
    "        self.y = y\n",
    "        self.z = z\n",
    "\n",
    "    def ToString(self): \n",
    "        if(self.z ==\"\"):\n",
    "            print('p('+str(self.x) + ', ' + str(self.y)+')')\n",
    "        else:\n",
    "            print('p('+str(self.x) + ', ' + str(self.y)+ ', '+ str(self.z)+')')\n",
    "\n",
    "P1 = Point(2,3)\n",
    "P1.ToString()\n",
    "P2=Point(1,-5,6)\n",
    "P2.ToString()"
   ]
  },
  {
   "cell_type": "code",
   "execution_count": 69,
   "metadata": {},
   "outputs": [
    {
     "name": "stdout",
     "output_type": "stream",
     "text": [
      "lettre: \n",
      "Adresse destination: Lille\n",
      " Adresse expedition: Paris\n",
      " Poids: 80\n",
      " Mode : normal\n",
      " format A4\n",
      " prix du timbre : 82.5\n",
      "Colis: \n",
      "Adresse destination: Marrakeche\n",
      " Adresse expedition: Barcelone\n",
      " Poids: 3500\n",
      " Mode : expresse\n",
      " Volume 2.25\n",
      " prix du timbre : 7001.125\n"
     ]
    }
   ],
   "source": [
    "class Lettre:\n",
    "    adressDest = ''\n",
    "    adrExped  = ''\n",
    "    poids = ''\n",
    "    mode = ''\n",
    "    format = ''\n",
    "    prixTimbre = ''\n",
    "    tarifBase = 0\n",
    "    \n",
    "    def __init__(self,ad='',ae='',p='',m='',f=''):\n",
    "        self.adressDest = ad\n",
    "        self.adrExped = ae\n",
    "        self.poids = p\n",
    "        self.mode = m\n",
    "        self.format = f        \n",
    "        self.calculTimbre()\n",
    "\n",
    "    \n",
    "    def calculTimbre(self):\n",
    "        \n",
    "        if(self.format == 'A3'):\n",
    "            self.tarifBase = 3.50\n",
    "        elif (self.format == 'A4'):\n",
    "            self.tarifBase = 2.50\n",
    "            \n",
    "        self.prixTimbre = self.tarifBase + 1.0 * self.poids\n",
    "        \n",
    "        if(self.mode == 'expresse'):\n",
    "            self.prixTimbre = self.prixTimbre*2\n",
    "\n",
    "\n",
    "    def ToString(self):\n",
    "        print('lettre: \\n'\n",
    "              + 'Adresse destination: ' + self.adressDest\n",
    "              + '\\n Adresse expedition: ' + self.adrExped\n",
    "              + '\\n Poids: ' + str(self.poids)\n",
    "              + '\\n Mode : ' + self.mode\n",
    "             + '\\n format ' + self.format\n",
    "             + '\\n prix du timbre : ' + str(self.prixTimbre))\n",
    "        \n",
    "class Colis (Lettre):\n",
    "    \n",
    "    volume = 0\n",
    "    \n",
    "    def __init__(self,ad='',ae='',p='',m='',v=''):\n",
    "        self.adressDest = ad\n",
    "        self.adrExped = ae\n",
    "        self.poids = p\n",
    "        self.mode = m\n",
    "        self.volume = v\n",
    "        self.calculTimbre()\n",
    "        \n",
    "    def calculTimbre(self):\n",
    "        self.prixTimbre = 0.25 * self.volume + self.poids * 1.0\n",
    " \n",
    "        if(self.mode == 'expresse'):\n",
    "            self.prixTimbre = self.prixTimbre*2\n",
    "    \n",
    "    def ToString(self):\n",
    "         print('Colis: \\n'\n",
    "              + 'Adresse destination: ' + self.adressDest\n",
    "              + '\\n Adresse expedition: ' + self.adrExped\n",
    "              + '\\n Poids: ' + str(self.poids)\n",
    "              + '\\n Mode : ' + self.mode\n",
    "              + '\\n Volume ' + str(self.volume)\n",
    "              + '\\n prix du timbre : ' + str(self.prixTimbre))\n",
    "    \n",
    "        \n",
    "lettreUne = Lettre('Lille','Paris',80,'normal','A4')\n",
    "lettreUne.ToString()\n",
    "C1=Colis('Marrakeche','Barcelone',3500,'expresse',2.25)\n",
    "C1.ToString()"
   ]
  },
  {
   "cell_type": "code",
   "execution_count": null,
   "metadata": {},
   "outputs": [],
   "source": []
  }
 ],
 "metadata": {
  "kernelspec": {
   "display_name": "Python 3",
   "language": "python",
   "name": "python3"
  },
  "language_info": {
   "codemirror_mode": {
    "name": "ipython",
    "version": 3
   },
   "file_extension": ".py",
   "mimetype": "text/x-python",
   "name": "python",
   "nbconvert_exporter": "python",
   "pygments_lexer": "ipython3",
   "version": "3.7.6"
  }
 },
 "nbformat": 4,
 "nbformat_minor": 4
}
