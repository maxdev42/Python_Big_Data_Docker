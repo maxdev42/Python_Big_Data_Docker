{
 "cells": [
  {
   "cell_type": "code",
   "execution_count": 36,
   "metadata": {},
   "outputs": [
    {
     "name": "stdout",
     "output_type": "stream",
     "text": [
      "Le solde du compte bancaire de Maxence est de : 300 euros\n",
      "Le solde du compte bancaire de Maxence est de : 1888 euros\n",
      "Le solde du compte bancaire de Maxence est de : 1500 euros\n"
     ]
    }
   ],
   "source": [
    "class CompteBancaire:\n",
    "    \n",
    "    def __init__(self,nom,argent):\n",
    "        self.nom = nom\n",
    "        self.solde = argent\n",
    "\n",
    "    def affiche(self): \n",
    "        print('Le solde du compte bancaire de '+self.nom + ' est de : ' + str(self.solde)+' euros')\n",
    "\n",
    "    def depot(self,depot):\n",
    "        self.solde = self.solde + depot\n",
    "\n",
    "    def retrait(self,montant):\n",
    "        self.solde = self.solde - montant\n",
    "\n",
    "maxence = CompteBancaire('Maxence', 300)\n",
    "maxence.affiche()\n",
    "maxence.depot(1588)\n",
    "maxence.affiche()\n",
    "maxence.retrait(388)\n",
    "maxence.affiche()"
   ]
  },
  {
   "cell_type": "code",
   "execution_count": 49,
   "metadata": {},
   "outputs": [
    {
     "name": "stdout",
     "output_type": "stream",
     "text": [
      "p(2, 3)\n",
      "p(1, -5, 6)\n"
     ]
    }
   ],
   "source": [
    "class Point:\n",
    "    x = \"\"\n",
    "    y = \"\"\n",
    "    z = \"\"\n",
    "\n",
    "    def __init__(self,x=\"\",y=\"\"):\n",
    "        self.x = x\n",
    "        self.y = y\n",
    "\n",
    "    def __init__(self,x= \"\",y= \"\",z = \"\"):\n",
    "        self.x = x\n",
    "        self.y = y\n",
    "        self.z = z\n",
    "\n",
    "    def ToString(self): \n",
    "        if(self.z ==\"\"):\n",
    "            print('p('+str(self.x) + ', ' + str(self.y)+')')\n",
    "        else:\n",
    "            print('p('+str(self.x) + ', ' + str(self.y)+ ', '+ str(self.z)+')')\n",
    "\n",
    "P1 = Point(2,3)\n",
    "P1.ToString()\n",
    "P2=Point(1,-5,6)\n",
    "P2.ToString()"
   ]
  },
  {
   "cell_type": "code",
   "execution_count": null,
   "metadata": {},
   "outputs": [],
   "source": []
  },
  {
   "cell_type": "code",
   "execution_count": null,
   "metadata": {},
   "outputs": [],
   "source": []
  }
 ],
 "metadata": {
  "kernelspec": {
   "display_name": "Python 3",
   "language": "python",
   "name": "python3"
  },
  "language_info": {
   "codemirror_mode": {
    "name": "ipython",
    "version": 3
   },
   "file_extension": ".py",
   "mimetype": "text/x-python",
   "name": "python",
   "nbconvert_exporter": "python",
   "pygments_lexer": "ipython3",
   "version": "3.7.6"
  }
 },
 "nbformat": 4,
 "nbformat_minor": 4
}
